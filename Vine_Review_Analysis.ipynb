{
 "cells": [
  {
   "cell_type": "markdown",
   "id": "517b1f57",
   "metadata": {},
   "source": [
    "## Deliverable 2"
   ]
  },
  {
   "cell_type": "code",
   "execution_count": 19,
   "id": "f616fdc7",
   "metadata": {},
   "outputs": [],
   "source": [
    "import pandas as pd\n",
    "from pathlib import Path\n",
    "import matplotlib.pyplot as plt\n",
    "from sklearn.linear_model import LinearRegression"
   ]
  },
  {
   "cell_type": "code",
   "execution_count": 20,
   "id": "701a3ddf",
   "metadata": {},
   "outputs": [
    {
     "name": "stderr",
     "output_type": "stream",
     "text": [
      "/Users/Fabiola/opt/anaconda3/envs/mlenv/lib/python3.7/site-packages/IPython/core/interactiveshell.py:3457: DtypeWarning: Columns (1) have mixed types.Specify dtype option on import or set low_memory=False.\n",
      "  exec(code_obj, self.user_global_ns, self.user_ns)\n"
     ]
    },
    {
     "data": {
      "text/html": [
       "<div>\n",
       "<style scoped>\n",
       "    .dataframe tbody tr th:only-of-type {\n",
       "        vertical-align: middle;\n",
       "    }\n",
       "\n",
       "    .dataframe tbody tr th {\n",
       "        vertical-align: top;\n",
       "    }\n",
       "\n",
       "    .dataframe thead th {\n",
       "        text-align: right;\n",
       "    }\n",
       "</style>\n",
       "<table border=\"1\" class=\"dataframe\">\n",
       "  <thead>\n",
       "    <tr style=\"text-align: right;\">\n",
       "      <th></th>\n",
       "      <th>review_id</th>\n",
       "      <th>star_rating</th>\n",
       "      <th>helpful_votes</th>\n",
       "      <th>total_votes</th>\n",
       "      <th>vine</th>\n",
       "      <th>verified_purchase</th>\n",
       "    </tr>\n",
       "  </thead>\n",
       "  <tbody>\n",
       "    <tr>\n",
       "      <th>0</th>\n",
       "      <td>R1WBPB8MDCCN8F</td>\n",
       "      <td>5.0</td>\n",
       "      <td>0.0</td>\n",
       "      <td>0.0</td>\n",
       "      <td>N</td>\n",
       "      <td>N</td>\n",
       "    </tr>\n",
       "    <tr>\n",
       "      <th>1</th>\n",
       "      <td>R32M0YEWV77XG8</td>\n",
       "      <td>5.0</td>\n",
       "      <td>1.0</td>\n",
       "      <td>1.0</td>\n",
       "      <td>N</td>\n",
       "      <td>Y</td>\n",
       "    </tr>\n",
       "    <tr>\n",
       "      <th>2</th>\n",
       "      <td>RR8V7WR27NXJ5</td>\n",
       "      <td>1.0</td>\n",
       "      <td>0.0</td>\n",
       "      <td>0.0</td>\n",
       "      <td>N</td>\n",
       "      <td>Y</td>\n",
       "    </tr>\n",
       "    <tr>\n",
       "      <th>3</th>\n",
       "      <td>R1MHO5V9Z932AY</td>\n",
       "      <td>5.0</td>\n",
       "      <td>0.0</td>\n",
       "      <td>0.0</td>\n",
       "      <td>N</td>\n",
       "      <td>Y</td>\n",
       "    </tr>\n",
       "    <tr>\n",
       "      <th>4</th>\n",
       "      <td>R16PD71086BD2V</td>\n",
       "      <td>5.0</td>\n",
       "      <td>0.0</td>\n",
       "      <td>1.0</td>\n",
       "      <td>N</td>\n",
       "      <td>N</td>\n",
       "    </tr>\n",
       "  </tbody>\n",
       "</table>\n",
       "</div>"
      ],
      "text/plain": [
       "        review_id star_rating  helpful_votes  total_votes vine  \\\n",
       "0  R1WBPB8MDCCN8F         5.0            0.0          0.0    N   \n",
       "1  R32M0YEWV77XG8         5.0            1.0          1.0    N   \n",
       "2   RR8V7WR27NXJ5         1.0            0.0          0.0    N   \n",
       "3  R1MHO5V9Z932AY         5.0            0.0          0.0    N   \n",
       "4  R16PD71086BD2V         5.0            0.0          1.0    N   \n",
       "\n",
       "  verified_purchase  \n",
       "0                 N  \n",
       "1                 Y  \n",
       "2                 Y  \n",
       "3                 Y  \n",
       "4                 N  "
      ]
     },
     "execution_count": 20,
     "metadata": {},
     "output_type": "execute_result"
    }
   ],
   "source": [
    "# Read in the vine_table.csv file as a DataFrame\n",
    "vine_table_df = pd.read_csv(Path('/Users/Fabiola/Desktop/Data/week16BigData/vine_table.csv', low_memory = False))\n",
    "vine_table_df.head()\n"
   ]
  },
  {
   "cell_type": "code",
   "execution_count": 22,
   "id": "7ffb31d6",
   "metadata": {},
   "outputs": [
    {
     "data": {
      "text/plain": [
       "4850360"
      ]
     },
     "execution_count": 22,
     "metadata": {},
     "output_type": "execute_result"
    }
   ],
   "source": [
    "vine_table_df[\"review_id\"].count()"
   ]
  },
  {
   "cell_type": "code",
   "execution_count": 3,
   "id": "4e780d4f",
   "metadata": {},
   "outputs": [
    {
     "data": {
      "text/html": [
       "<div>\n",
       "<style scoped>\n",
       "    .dataframe tbody tr th:only-of-type {\n",
       "        vertical-align: middle;\n",
       "    }\n",
       "\n",
       "    .dataframe tbody tr th {\n",
       "        vertical-align: top;\n",
       "    }\n",
       "\n",
       "    .dataframe thead th {\n",
       "        text-align: right;\n",
       "    }\n",
       "</style>\n",
       "<table border=\"1\" class=\"dataframe\">\n",
       "  <thead>\n",
       "    <tr style=\"text-align: right;\">\n",
       "      <th></th>\n",
       "      <th>review_id</th>\n",
       "      <th>star_rating</th>\n",
       "      <th>helpful_votes</th>\n",
       "      <th>total_votes</th>\n",
       "      <th>vine</th>\n",
       "      <th>verified_purchase</th>\n",
       "    </tr>\n",
       "  </thead>\n",
       "  <tbody>\n",
       "    <tr>\n",
       "      <th>279</th>\n",
       "      <td>R1ZS2QYCM8NUAA</td>\n",
       "      <td>5.0</td>\n",
       "      <td>20.0</td>\n",
       "      <td>22.0</td>\n",
       "      <td>N</td>\n",
       "      <td>Y</td>\n",
       "    </tr>\n",
       "    <tr>\n",
       "      <th>312</th>\n",
       "      <td>R345UZQUQHEHSB</td>\n",
       "      <td>5.0</td>\n",
       "      <td>20.0</td>\n",
       "      <td>20.0</td>\n",
       "      <td>N</td>\n",
       "      <td>N</td>\n",
       "    </tr>\n",
       "    <tr>\n",
       "      <th>330</th>\n",
       "      <td>R34XYCBWWGMBC2</td>\n",
       "      <td>5.0</td>\n",
       "      <td>20.0</td>\n",
       "      <td>21.0</td>\n",
       "      <td>N</td>\n",
       "      <td>Y</td>\n",
       "    </tr>\n",
       "    <tr>\n",
       "      <th>1120</th>\n",
       "      <td>R28BVHOEL6GCHZ</td>\n",
       "      <td>5.0</td>\n",
       "      <td>21.0</td>\n",
       "      <td>21.0</td>\n",
       "      <td>N</td>\n",
       "      <td>Y</td>\n",
       "    </tr>\n",
       "    <tr>\n",
       "      <th>1612</th>\n",
       "      <td>REKURTWERLPRI</td>\n",
       "      <td>1.0</td>\n",
       "      <td>32.0</td>\n",
       "      <td>33.0</td>\n",
       "      <td>N</td>\n",
       "      <td>N</td>\n",
       "    </tr>\n",
       "  </tbody>\n",
       "</table>\n",
       "</div>"
      ],
      "text/plain": [
       "           review_id star_rating  helpful_votes  total_votes vine  \\\n",
       "279   R1ZS2QYCM8NUAA         5.0           20.0         22.0    N   \n",
       "312   R345UZQUQHEHSB         5.0           20.0         20.0    N   \n",
       "330   R34XYCBWWGMBC2         5.0           20.0         21.0    N   \n",
       "1120  R28BVHOEL6GCHZ         5.0           21.0         21.0    N   \n",
       "1612   REKURTWERLPRI         1.0           32.0         33.0    N   \n",
       "\n",
       "     verified_purchase  \n",
       "279                  Y  \n",
       "312                  N  \n",
       "330                  Y  \n",
       "1120                 Y  \n",
       "1612                 N  "
      ]
     },
     "execution_count": 3,
     "metadata": {},
     "output_type": "execute_result"
    }
   ],
   "source": [
    "# 1. Retrieve all the rows where the total_votes count is equal to \n",
    "# or greater than 20\n",
    "total_votes = vine_table_df[vine_table_df[\"total_votes\"]>=20] \n",
    "total_votes.head()"
   ]
  },
  {
   "cell_type": "code",
   "execution_count": 4,
   "id": "733953c0",
   "metadata": {
    "scrolled": true
   },
   "outputs": [
    {
     "data": {
      "text/html": [
       "<div>\n",
       "<style scoped>\n",
       "    .dataframe tbody tr th:only-of-type {\n",
       "        vertical-align: middle;\n",
       "    }\n",
       "\n",
       "    .dataframe tbody tr th {\n",
       "        vertical-align: top;\n",
       "    }\n",
       "\n",
       "    .dataframe thead th {\n",
       "        text-align: right;\n",
       "    }\n",
       "</style>\n",
       "<table border=\"1\" class=\"dataframe\">\n",
       "  <thead>\n",
       "    <tr style=\"text-align: right;\">\n",
       "      <th></th>\n",
       "      <th>review_id</th>\n",
       "      <th>star_rating</th>\n",
       "      <th>helpful_votes</th>\n",
       "      <th>total_votes</th>\n",
       "      <th>vine</th>\n",
       "      <th>verified_purchase</th>\n",
       "    </tr>\n",
       "  </thead>\n",
       "  <tbody>\n",
       "    <tr>\n",
       "      <th>279</th>\n",
       "      <td>R1ZS2QYCM8NUAA</td>\n",
       "      <td>5.0</td>\n",
       "      <td>20.0</td>\n",
       "      <td>22.0</td>\n",
       "      <td>N</td>\n",
       "      <td>Y</td>\n",
       "    </tr>\n",
       "    <tr>\n",
       "      <th>312</th>\n",
       "      <td>R345UZQUQHEHSB</td>\n",
       "      <td>5.0</td>\n",
       "      <td>20.0</td>\n",
       "      <td>20.0</td>\n",
       "      <td>N</td>\n",
       "      <td>N</td>\n",
       "    </tr>\n",
       "    <tr>\n",
       "      <th>330</th>\n",
       "      <td>R34XYCBWWGMBC2</td>\n",
       "      <td>5.0</td>\n",
       "      <td>20.0</td>\n",
       "      <td>21.0</td>\n",
       "      <td>N</td>\n",
       "      <td>Y</td>\n",
       "    </tr>\n",
       "    <tr>\n",
       "      <th>1120</th>\n",
       "      <td>R28BVHOEL6GCHZ</td>\n",
       "      <td>5.0</td>\n",
       "      <td>21.0</td>\n",
       "      <td>21.0</td>\n",
       "      <td>N</td>\n",
       "      <td>Y</td>\n",
       "    </tr>\n",
       "    <tr>\n",
       "      <th>1612</th>\n",
       "      <td>REKURTWERLPRI</td>\n",
       "      <td>1.0</td>\n",
       "      <td>32.0</td>\n",
       "      <td>33.0</td>\n",
       "      <td>N</td>\n",
       "      <td>N</td>\n",
       "    </tr>\n",
       "  </tbody>\n",
       "</table>\n",
       "</div>"
      ],
      "text/plain": [
       "           review_id star_rating  helpful_votes  total_votes vine  \\\n",
       "279   R1ZS2QYCM8NUAA         5.0           20.0         22.0    N   \n",
       "312   R345UZQUQHEHSB         5.0           20.0         20.0    N   \n",
       "330   R34XYCBWWGMBC2         5.0           20.0         21.0    N   \n",
       "1120  R28BVHOEL6GCHZ         5.0           21.0         21.0    N   \n",
       "1612   REKURTWERLPRI         1.0           32.0         33.0    N   \n",
       "\n",
       "     verified_purchase  \n",
       "279                  Y  \n",
       "312                  N  \n",
       "330                  Y  \n",
       "1120                 Y  \n",
       "1612                 N  "
      ]
     },
     "execution_count": 4,
     "metadata": {},
     "output_type": "execute_result"
    }
   ],
   "source": [
    "# 2. Retrieve all the rows where the number of helpful_votes \n",
    "# divided by total_votes is equal to or greater\n",
    "# than 50%.\n",
    "total_votes_percentage = total_votes.loc[(total_votes[\"helpful_votes\"]) / \n",
    "                                         (total_votes[\"total_votes\"]) >= 0.5]\n",
    "total_votes_percentage.head()                            "
   ]
  },
  {
   "cell_type": "code",
   "execution_count": 28,
   "id": "42c021ef",
   "metadata": {},
   "outputs": [
    {
     "data": {
      "text/plain": [
       "61948"
      ]
     },
     "execution_count": 28,
     "metadata": {},
     "output_type": "execute_result"
    }
   ],
   "source": [
    "total_votes_percentage.shape[0]"
   ]
  },
  {
   "cell_type": "code",
   "execution_count": 5,
   "id": "3925a69e",
   "metadata": {},
   "outputs": [
    {
     "data": {
      "text/html": [
       "<div>\n",
       "<style scoped>\n",
       "    .dataframe tbody tr th:only-of-type {\n",
       "        vertical-align: middle;\n",
       "    }\n",
       "\n",
       "    .dataframe tbody tr th {\n",
       "        vertical-align: top;\n",
       "    }\n",
       "\n",
       "    .dataframe thead th {\n",
       "        text-align: right;\n",
       "    }\n",
       "</style>\n",
       "<table border=\"1\" class=\"dataframe\">\n",
       "  <thead>\n",
       "    <tr style=\"text-align: right;\">\n",
       "      <th></th>\n",
       "      <th>review_id</th>\n",
       "      <th>star_rating</th>\n",
       "      <th>helpful_votes</th>\n",
       "      <th>total_votes</th>\n",
       "      <th>vine</th>\n",
       "      <th>verified_purchase</th>\n",
       "    </tr>\n",
       "  </thead>\n",
       "  <tbody>\n",
       "    <tr>\n",
       "      <th>10553</th>\n",
       "      <td>R32OMS1LSDRCOB</td>\n",
       "      <td>4.0</td>\n",
       "      <td>27.0</td>\n",
       "      <td>31.0</td>\n",
       "      <td>Y</td>\n",
       "      <td>N</td>\n",
       "    </tr>\n",
       "    <tr>\n",
       "      <th>49186</th>\n",
       "      <td>R2IPKK4I0XRCFR</td>\n",
       "      <td>4.0</td>\n",
       "      <td>16.0</td>\n",
       "      <td>21.0</td>\n",
       "      <td>Y</td>\n",
       "      <td>N</td>\n",
       "    </tr>\n",
       "    <tr>\n",
       "      <th>109249</th>\n",
       "      <td>R1OGJY9TSNXXX3</td>\n",
       "      <td>5.0</td>\n",
       "      <td>19.0</td>\n",
       "      <td>22.0</td>\n",
       "      <td>Y</td>\n",
       "      <td>N</td>\n",
       "    </tr>\n",
       "    <tr>\n",
       "      <th>117965</th>\n",
       "      <td>RXYYJ8SGI9IX6</td>\n",
       "      <td>5.0</td>\n",
       "      <td>36.0</td>\n",
       "      <td>41.0</td>\n",
       "      <td>Y</td>\n",
       "      <td>N</td>\n",
       "    </tr>\n",
       "    <tr>\n",
       "      <th>127555</th>\n",
       "      <td>R1SAUBFC7T6JHC</td>\n",
       "      <td>5.0</td>\n",
       "      <td>73.0</td>\n",
       "      <td>75.0</td>\n",
       "      <td>Y</td>\n",
       "      <td>N</td>\n",
       "    </tr>\n",
       "  </tbody>\n",
       "</table>\n",
       "</div>"
      ],
      "text/plain": [
       "             review_id star_rating  helpful_votes  total_votes vine  \\\n",
       "10553   R32OMS1LSDRCOB         4.0           27.0         31.0    Y   \n",
       "49186   R2IPKK4I0XRCFR         4.0           16.0         21.0    Y   \n",
       "109249  R1OGJY9TSNXXX3         5.0           19.0         22.0    Y   \n",
       "117965   RXYYJ8SGI9IX6         5.0           36.0         41.0    Y   \n",
       "127555  R1SAUBFC7T6JHC         5.0           73.0         75.0    Y   \n",
       "\n",
       "       verified_purchase  \n",
       "10553                  N  \n",
       "49186                  N  \n",
       "109249                 N  \n",
       "117965                 N  \n",
       "127555                 N  "
      ]
     },
     "execution_count": 5,
     "metadata": {},
     "output_type": "execute_result"
    }
   ],
   "source": [
    "# 3. Create a new DataFrame or table that retrieves all the rows where a review was\n",
    "# written as part of the \n",
    "# Vine program (paid), vine == 'Y'.\n",
    "total_votes_paid_y = total_votes_percentage[total_votes_percentage[\"vine\"] =='Y'] \n",
    "total_votes_paid_y.head()\n"
   ]
  },
  {
   "cell_type": "code",
   "execution_count": 24,
   "id": "aa1ae2a5",
   "metadata": {},
   "outputs": [
    {
     "data": {
      "text/plain": [
       "334"
      ]
     },
     "execution_count": 24,
     "metadata": {},
     "output_type": "execute_result"
    }
   ],
   "source": [
    "total_votes_paid_y[\"review_id\"].count()"
   ]
  },
  {
   "cell_type": "code",
   "execution_count": 9,
   "id": "b42dddea",
   "metadata": {},
   "outputs": [
    {
     "data": {
      "text/html": [
       "<div>\n",
       "<style scoped>\n",
       "    .dataframe tbody tr th:only-of-type {\n",
       "        vertical-align: middle;\n",
       "    }\n",
       "\n",
       "    .dataframe tbody tr th {\n",
       "        vertical-align: top;\n",
       "    }\n",
       "\n",
       "    .dataframe thead th {\n",
       "        text-align: right;\n",
       "    }\n",
       "</style>\n",
       "<table border=\"1\" class=\"dataframe\">\n",
       "  <thead>\n",
       "    <tr style=\"text-align: right;\">\n",
       "      <th></th>\n",
       "      <th>review_id</th>\n",
       "      <th>star_rating</th>\n",
       "      <th>helpful_votes</th>\n",
       "      <th>total_votes</th>\n",
       "      <th>vine</th>\n",
       "      <th>verified_purchase</th>\n",
       "    </tr>\n",
       "  </thead>\n",
       "  <tbody>\n",
       "    <tr>\n",
       "      <th>279</th>\n",
       "      <td>R1ZS2QYCM8NUAA</td>\n",
       "      <td>5.0</td>\n",
       "      <td>20.0</td>\n",
       "      <td>22.0</td>\n",
       "      <td>N</td>\n",
       "      <td>Y</td>\n",
       "    </tr>\n",
       "    <tr>\n",
       "      <th>312</th>\n",
       "      <td>R345UZQUQHEHSB</td>\n",
       "      <td>5.0</td>\n",
       "      <td>20.0</td>\n",
       "      <td>20.0</td>\n",
       "      <td>N</td>\n",
       "      <td>N</td>\n",
       "    </tr>\n",
       "    <tr>\n",
       "      <th>330</th>\n",
       "      <td>R34XYCBWWGMBC2</td>\n",
       "      <td>5.0</td>\n",
       "      <td>20.0</td>\n",
       "      <td>21.0</td>\n",
       "      <td>N</td>\n",
       "      <td>Y</td>\n",
       "    </tr>\n",
       "    <tr>\n",
       "      <th>1120</th>\n",
       "      <td>R28BVHOEL6GCHZ</td>\n",
       "      <td>5.0</td>\n",
       "      <td>21.0</td>\n",
       "      <td>21.0</td>\n",
       "      <td>N</td>\n",
       "      <td>Y</td>\n",
       "    </tr>\n",
       "    <tr>\n",
       "      <th>1612</th>\n",
       "      <td>REKURTWERLPRI</td>\n",
       "      <td>1.0</td>\n",
       "      <td>32.0</td>\n",
       "      <td>33.0</td>\n",
       "      <td>N</td>\n",
       "      <td>N</td>\n",
       "    </tr>\n",
       "  </tbody>\n",
       "</table>\n",
       "</div>"
      ],
      "text/plain": [
       "           review_id star_rating  helpful_votes  total_votes vine  \\\n",
       "279   R1ZS2QYCM8NUAA         5.0           20.0         22.0    N   \n",
       "312   R345UZQUQHEHSB         5.0           20.0         20.0    N   \n",
       "330   R34XYCBWWGMBC2         5.0           20.0         21.0    N   \n",
       "1120  R28BVHOEL6GCHZ         5.0           21.0         21.0    N   \n",
       "1612   REKURTWERLPRI         1.0           32.0         33.0    N   \n",
       "\n",
       "     verified_purchase  \n",
       "279                  Y  \n",
       "312                  N  \n",
       "330                  Y  \n",
       "1120                 Y  \n",
       "1612                 N  "
      ]
     },
     "execution_count": 9,
     "metadata": {},
     "output_type": "execute_result"
    }
   ],
   "source": [
    "# 4. Create a new DataFrame or table that retrieves all the rows where a review was\n",
    "# written as part of the \n",
    "# Vine program (paid), vine == 'N'.\n",
    "total_votes_paid_n = total_votes_percentage[total_votes_percentage[\"vine\"] =='N'] \n",
    "total_votes_paid_n.head()"
   ]
  },
  {
   "cell_type": "code",
   "execution_count": 27,
   "id": "73d21298",
   "metadata": {},
   "outputs": [
    {
     "data": {
      "text/plain": [
       "61614"
      ]
     },
     "execution_count": 27,
     "metadata": {},
     "output_type": "execute_result"
    }
   ],
   "source": [
    "total_votes_paid_n.shape[0]"
   ]
  },
  {
   "cell_type": "code",
   "execution_count": 12,
   "id": "a28ded38",
   "metadata": {},
   "outputs": [
    {
     "name": "stdout",
     "output_type": "stream",
     "text": [
      "4850360 <class 'numpy.int64'>\n"
     ]
    }
   ],
   "source": [
    "# 5.Total number of reviews \n",
    "#df_total_number_reviews = total_votes_percentage[total_votes_percentage[\"vine\"] == 'Y']\n",
    "df_total_number_reviews = vine_table_df[\"review_id\"].count()\n",
    "\n",
    "#total_number_reviews = df_total_number_reviews.shape[0]\n",
    "#total_number_reviews = total_number_reviews_Y + total_number_reviews_N\n",
    "print(df_total_number_reviews, type(df_total_number_reviews))"
   ]
  },
  {
   "cell_type": "code",
   "execution_count": 13,
   "id": "c1bf46dc",
   "metadata": {},
   "outputs": [
    {
     "name": "stdout",
     "output_type": "stream",
     "text": [
      "2961223 <class 'int'>\n"
     ]
    }
   ],
   "source": [
    "# 5.Number of five stars reviews\n",
    "df_five_stars = vine_table_df[vine_table_df[\"star_rating\"] == 5.0]\n",
    "reviews_five_stars = df_five_stars.shape[0]\n",
    "print(reviews_five_stars, type(reviews_five_stars))\n"
   ]
  },
  {
   "cell_type": "code",
   "execution_count": 14,
   "id": "ad7aba79",
   "metadata": {},
   "outputs": [
    {
     "name": "stdout",
     "output_type": "stream",
     "text": [
      "2637198 <class 'int'>\n"
     ]
    }
   ],
   "source": [
    "# 5. Number of five stars reviews where verified_purchase = Y\n",
    "five_stars_paid = df_five_stars[df_five_stars[\"verified_purchase\"] == \"Y\"]\n",
    "#five_stars_paid.shape[0]\n",
    "five_stars_paid_value = five_stars_paid.shape[0]\n",
    "print(five_stars_paid_value, type(five_stars_paid_value))"
   ]
  },
  {
   "cell_type": "code",
   "execution_count": 15,
   "id": "c372b954",
   "metadata": {},
   "outputs": [
    {
     "name": "stdout",
     "output_type": "stream",
     "text": [
      "324025 <class 'int'>\n"
     ]
    }
   ],
   "source": [
    "# 5. Number of five stars reviews where verified_purchase = N\n",
    "five_stars_unpaid = df_five_stars[df_five_stars[\"verified_purchase\"] == \"N\"]\n",
    "five_stars_unpaid_value = five_stars_unpaid.shape[0]\n",
    "print(five_stars_unpaid_value, type(five_stars_unpaid_value))"
   ]
  },
  {
   "cell_type": "code",
   "execution_count": 31,
   "id": "a8352129",
   "metadata": {},
   "outputs": [
    {
     "data": {
      "text/plain": [
       "61.05"
      ]
     },
     "execution_count": 31,
     "metadata": {},
     "output_type": "execute_result"
    }
   ],
   "source": [
    "# Percentage of 5 star reviews\n",
    "perc_five_stars = (reviews_five_stars * 100)/df_total_number_reviews\n",
    "round(perc_five_stars,2) "
   ]
  },
  {
   "cell_type": "code",
   "execution_count": 32,
   "id": "0de22b17",
   "metadata": {},
   "outputs": [
    {
     "data": {
      "text/plain": [
       "89.06"
      ]
     },
     "execution_count": 32,
     "metadata": {},
     "output_type": "execute_result"
    }
   ],
   "source": [
    "# 5. Percentage of 5-star reviews for the two types of review (paid vs unpaid).\n",
    "percent_five_stars_paid = float((five_stars_paid_value * 100)/reviews_five_stars)\n",
    "round(percent_five_stars_paid,2)"
   ]
  },
  {
   "cell_type": "code",
   "execution_count": 33,
   "id": "7c65473c",
   "metadata": {},
   "outputs": [
    {
     "data": {
      "text/plain": [
       "10.94"
      ]
     },
     "execution_count": 33,
     "metadata": {},
     "output_type": "execute_result"
    }
   ],
   "source": [
    "# 5. percentage of 5-star reviews for the two types of review (paid vs unpaid).\n",
    "percent_five_stars_unpaid = (five_stars_unpaid_value * 100)/reviews_five_stars\n",
    "round(percent_five_stars_unpaid,2)"
   ]
  },
  {
   "cell_type": "markdown",
   "id": "d50f77c1",
   "metadata": {},
   "source": [
    "## End"
   ]
  },
  {
   "cell_type": "code",
   "execution_count": 34,
   "id": "b729d945",
   "metadata": {},
   "outputs": [
    {
     "data": {
      "text/plain": [
       "100.0"
      ]
     },
     "execution_count": 34,
     "metadata": {},
     "output_type": "execute_result"
    }
   ],
   "source": [
    "round(percent_five_stars_paid,2)+round(percent_five_stars_unpaid,2)"
   ]
  },
  {
   "cell_type": "code",
   "execution_count": null,
   "id": "44be6169",
   "metadata": {},
   "outputs": [],
   "source": []
  }
 ],
 "metadata": {
  "kernelspec": {
   "display_name": "mlenv",
   "language": "python",
   "name": "mlenv"
  },
  "language_info": {
   "codemirror_mode": {
    "name": "ipython",
    "version": 3
   },
   "file_extension": ".py",
   "mimetype": "text/x-python",
   "name": "python",
   "nbconvert_exporter": "python",
   "pygments_lexer": "ipython3",
   "version": "3.7.13"
  }
 },
 "nbformat": 4,
 "nbformat_minor": 5
}
